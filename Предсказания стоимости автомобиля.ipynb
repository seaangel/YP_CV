{
  "nbformat": 4,
  "nbformat_minor": 0,
  "metadata": {
    "kernelspec": {
      "display_name": "Python 3",
      "language": "python",
      "name": "python3"
    },
    "language_info": {
      "codemirror_mode": {
        "name": "ipython",
        "version": 3
      },
      "file_extension": ".py",
      "mimetype": "text/x-python",
      "name": "python",
      "nbconvert_exporter": "python",
      "pygments_lexer": "ipython3",
      "version": "3.7.8"
    },
    "toc": {
      "base_numbering": 1,
      "nav_menu": {},
      "number_sections": true,
      "sideBar": true,
      "skip_h1_title": true,
      "title_cell": "Table of Contents",
      "title_sidebar": "Contents",
      "toc_cell": false,
      "toc_position": {},
      "toc_section_display": true,
      "toc_window_display": false
    },
    "colab": {
      "name": "машины.ipynb",
      "provenance": []
    }
  },
  "cells": [
    {
      "cell_type": "markdown",
      "metadata": {
        "id": "CZ-lGu_laXXz"
      },
      "source": [
        "# Определение стоимости автомобилей"
      ]
    },
    {
      "cell_type": "markdown",
      "metadata": {
        "id": "0rCIqX5faXXz"
      },
      "source": [
        "Сервис по продаже автомобилей с пробегом «Не бит, не крашен» разрабатывает приложение для привлечения новых клиентов. В нём можно быстро узнать рыночную стоимость своего автомобиля. В вашем распоряжении исторические данные: технические характеристики, комплектации и цены автомобилей. Вам нужно построить модель для определения стоимости. \n",
        "\n",
        "Заказчику важны:\n",
        "\n",
        "- качество предсказания;\n",
        "- скорость предсказания;\n",
        "- время обучения."
      ]
    },
    {
      "cell_type": "markdown",
      "metadata": {
        "id": "wlaZNkqGaXX0"
      },
      "source": [
        "## Подготовка данных"
      ]
    },
    {
      "cell_type": "code",
      "metadata": {
        "id": "osZHYxZyaXX0"
      },
      "source": [
        "import pandas as pd\n",
        "from sklearn.model_selection import train_test_split\n",
        "from sklearn.ensemble import RandomForestRegressor\n",
        "from sklearn.linear_model import LinearRegression\n",
        "from lightgbm import LGBMRegressor\n",
        "from sklearn.model_selection import cross_val_score\n",
        "\n",
        "from sklearn.metrics import mean_squared_error\n",
        "from sklearn.preprocessing import OrdinalEncoder\n",
        "from sklearn.model_selection import GridSearchCV\n",
        "from sklearn.model_selection import RandomizedSearchCV\n"
      ],
      "execution_count": null,
      "outputs": []
    },
    {
      "cell_type": "code",
      "metadata": {
        "id": "VRwFXkFEaXX1"
      },
      "source": [
        "data = pd.read_csv('/datasets/autos.csv')"
      ],
      "execution_count": null,
      "outputs": []
    },
    {
      "cell_type": "markdown",
      "metadata": {
        "id": "aYLPbiRvaXX2"
      },
      "source": [
        "Посмотрим на данные под различным углом"
      ]
    },
    {
      "cell_type": "code",
      "metadata": {
        "id": "-lr8utzOaXX2",
        "outputId": "ce04d990-8ba0-4658-b971-323a187ef019"
      },
      "source": [
        "display(data.head(5))\n",
        "data.info()"
      ],
      "execution_count": null,
      "outputs": [
        {
          "output_type": "display_data",
          "data": {
            "text/html": [
              "<div>\n",
              "<style scoped>\n",
              "    .dataframe tbody tr th:only-of-type {\n",
              "        vertical-align: middle;\n",
              "    }\n",
              "\n",
              "    .dataframe tbody tr th {\n",
              "        vertical-align: top;\n",
              "    }\n",
              "\n",
              "    .dataframe thead th {\n",
              "        text-align: right;\n",
              "    }\n",
              "</style>\n",
              "<table border=\"1\" class=\"dataframe\">\n",
              "  <thead>\n",
              "    <tr style=\"text-align: right;\">\n",
              "      <th></th>\n",
              "      <th>DateCrawled</th>\n",
              "      <th>Price</th>\n",
              "      <th>VehicleType</th>\n",
              "      <th>RegistrationYear</th>\n",
              "      <th>Gearbox</th>\n",
              "      <th>Power</th>\n",
              "      <th>Model</th>\n",
              "      <th>Kilometer</th>\n",
              "      <th>RegistrationMonth</th>\n",
              "      <th>FuelType</th>\n",
              "      <th>Brand</th>\n",
              "      <th>NotRepaired</th>\n",
              "      <th>DateCreated</th>\n",
              "      <th>NumberOfPictures</th>\n",
              "      <th>PostalCode</th>\n",
              "      <th>LastSeen</th>\n",
              "    </tr>\n",
              "  </thead>\n",
              "  <tbody>\n",
              "    <tr>\n",
              "      <td>0</td>\n",
              "      <td>2016-03-24 11:52:17</td>\n",
              "      <td>480</td>\n",
              "      <td>NaN</td>\n",
              "      <td>1993</td>\n",
              "      <td>manual</td>\n",
              "      <td>0</td>\n",
              "      <td>golf</td>\n",
              "      <td>150000</td>\n",
              "      <td>0</td>\n",
              "      <td>petrol</td>\n",
              "      <td>volkswagen</td>\n",
              "      <td>NaN</td>\n",
              "      <td>2016-03-24 00:00:00</td>\n",
              "      <td>0</td>\n",
              "      <td>70435</td>\n",
              "      <td>2016-04-07 03:16:57</td>\n",
              "    </tr>\n",
              "    <tr>\n",
              "      <td>1</td>\n",
              "      <td>2016-03-24 10:58:45</td>\n",
              "      <td>18300</td>\n",
              "      <td>coupe</td>\n",
              "      <td>2011</td>\n",
              "      <td>manual</td>\n",
              "      <td>190</td>\n",
              "      <td>NaN</td>\n",
              "      <td>125000</td>\n",
              "      <td>5</td>\n",
              "      <td>gasoline</td>\n",
              "      <td>audi</td>\n",
              "      <td>yes</td>\n",
              "      <td>2016-03-24 00:00:00</td>\n",
              "      <td>0</td>\n",
              "      <td>66954</td>\n",
              "      <td>2016-04-07 01:46:50</td>\n",
              "    </tr>\n",
              "    <tr>\n",
              "      <td>2</td>\n",
              "      <td>2016-03-14 12:52:21</td>\n",
              "      <td>9800</td>\n",
              "      <td>suv</td>\n",
              "      <td>2004</td>\n",
              "      <td>auto</td>\n",
              "      <td>163</td>\n",
              "      <td>grand</td>\n",
              "      <td>125000</td>\n",
              "      <td>8</td>\n",
              "      <td>gasoline</td>\n",
              "      <td>jeep</td>\n",
              "      <td>NaN</td>\n",
              "      <td>2016-03-14 00:00:00</td>\n",
              "      <td>0</td>\n",
              "      <td>90480</td>\n",
              "      <td>2016-04-05 12:47:46</td>\n",
              "    </tr>\n",
              "    <tr>\n",
              "      <td>3</td>\n",
              "      <td>2016-03-17 16:54:04</td>\n",
              "      <td>1500</td>\n",
              "      <td>small</td>\n",
              "      <td>2001</td>\n",
              "      <td>manual</td>\n",
              "      <td>75</td>\n",
              "      <td>golf</td>\n",
              "      <td>150000</td>\n",
              "      <td>6</td>\n",
              "      <td>petrol</td>\n",
              "      <td>volkswagen</td>\n",
              "      <td>no</td>\n",
              "      <td>2016-03-17 00:00:00</td>\n",
              "      <td>0</td>\n",
              "      <td>91074</td>\n",
              "      <td>2016-03-17 17:40:17</td>\n",
              "    </tr>\n",
              "    <tr>\n",
              "      <td>4</td>\n",
              "      <td>2016-03-31 17:25:20</td>\n",
              "      <td>3600</td>\n",
              "      <td>small</td>\n",
              "      <td>2008</td>\n",
              "      <td>manual</td>\n",
              "      <td>69</td>\n",
              "      <td>fabia</td>\n",
              "      <td>90000</td>\n",
              "      <td>7</td>\n",
              "      <td>gasoline</td>\n",
              "      <td>skoda</td>\n",
              "      <td>no</td>\n",
              "      <td>2016-03-31 00:00:00</td>\n",
              "      <td>0</td>\n",
              "      <td>60437</td>\n",
              "      <td>2016-04-06 10:17:21</td>\n",
              "    </tr>\n",
              "  </tbody>\n",
              "</table>\n",
              "</div>"
            ],
            "text/plain": [
              "           DateCrawled  Price VehicleType  RegistrationYear Gearbox  Power  \\\n",
              "0  2016-03-24 11:52:17    480         NaN              1993  manual      0   \n",
              "1  2016-03-24 10:58:45  18300       coupe              2011  manual    190   \n",
              "2  2016-03-14 12:52:21   9800         suv              2004    auto    163   \n",
              "3  2016-03-17 16:54:04   1500       small              2001  manual     75   \n",
              "4  2016-03-31 17:25:20   3600       small              2008  manual     69   \n",
              "\n",
              "   Model  Kilometer  RegistrationMonth  FuelType       Brand NotRepaired  \\\n",
              "0   golf     150000                  0    petrol  volkswagen         NaN   \n",
              "1    NaN     125000                  5  gasoline        audi         yes   \n",
              "2  grand     125000                  8  gasoline        jeep         NaN   \n",
              "3   golf     150000                  6    petrol  volkswagen          no   \n",
              "4  fabia      90000                  7  gasoline       skoda          no   \n",
              "\n",
              "           DateCreated  NumberOfPictures  PostalCode             LastSeen  \n",
              "0  2016-03-24 00:00:00                 0       70435  2016-04-07 03:16:57  \n",
              "1  2016-03-24 00:00:00                 0       66954  2016-04-07 01:46:50  \n",
              "2  2016-03-14 00:00:00                 0       90480  2016-04-05 12:47:46  \n",
              "3  2016-03-17 00:00:00                 0       91074  2016-03-17 17:40:17  \n",
              "4  2016-03-31 00:00:00                 0       60437  2016-04-06 10:17:21  "
            ]
          },
          "metadata": {
            "tags": []
          }
        },
        {
          "output_type": "stream",
          "text": [
            "<class 'pandas.core.frame.DataFrame'>\n",
            "RangeIndex: 354369 entries, 0 to 354368\n",
            "Data columns (total 16 columns):\n",
            "DateCrawled          354369 non-null object\n",
            "Price                354369 non-null int64\n",
            "VehicleType          316879 non-null object\n",
            "RegistrationYear     354369 non-null int64\n",
            "Gearbox              334536 non-null object\n",
            "Power                354369 non-null int64\n",
            "Model                334664 non-null object\n",
            "Kilometer            354369 non-null int64\n",
            "RegistrationMonth    354369 non-null int64\n",
            "FuelType             321474 non-null object\n",
            "Brand                354369 non-null object\n",
            "NotRepaired          283215 non-null object\n",
            "DateCreated          354369 non-null object\n",
            "NumberOfPictures     354369 non-null int64\n",
            "PostalCode           354369 non-null int64\n",
            "LastSeen             354369 non-null object\n",
            "dtypes: int64(7), object(9)\n",
            "memory usage: 43.3+ MB\n"
          ],
          "name": "stdout"
        }
      ]
    },
    {
      "cell_type": "markdown",
      "metadata": {
        "id": "xTQapYXaaXX3"
      },
      "source": [
        "У нас есть пропуски, заменить их сходу ничем не получится, поэтому заменим на NON, чтобы было проще переводить в цифры\n",
        "\n",
        "Думаю надо убрать из дата сета уникальные значения, так как для обучения они не нужны, думаю это Даты различные и почтовый индекс\n",
        "\n",
        "Судя по тому, что целевая колонка у нас это цена, то это задача регрессии, надо будет посмотреть, что для этого в LightGBM есть"
      ]
    },
    {
      "cell_type": "code",
      "metadata": {
        "id": "4X0Edh-4aXX4"
      },
      "source": [
        "data = data.drop(['DateCrawled', 'DateCreated','PostalCode','LastSeen'], axis = 1)"
      ],
      "execution_count": null,
      "outputs": []
    },
    {
      "cell_type": "code",
      "metadata": {
        "id": "FHgCQWgwaXX4"
      },
      "source": [
        "data=data.fillna('NON')"
      ],
      "execution_count": null,
      "outputs": []
    },
    {
      "cell_type": "markdown",
      "metadata": {
        "id": "gnumx6JXaXX5"
      },
      "source": [
        "Запишем куда нибудь категориальные признаки, чувствую это понадобится"
      ]
    },
    {
      "cell_type": "code",
      "metadata": {
        "scrolled": true,
        "id": "zp7LDQPgaXX6",
        "outputId": "ab49a120-4daf-42cb-bdd7-d1b934e547b2"
      },
      "source": [
        "data_cat = ['VehicleType','Gearbox','Model','FuelType','Brand','NotRepaired']\n",
        "data.info()\n",
        "data.shape"
      ],
      "execution_count": null,
      "outputs": [
        {
          "output_type": "stream",
          "text": [
            "<class 'pandas.core.frame.DataFrame'>\n",
            "RangeIndex: 354369 entries, 0 to 354368\n",
            "Data columns (total 12 columns):\n",
            "Price                354369 non-null int64\n",
            "VehicleType          354369 non-null object\n",
            "RegistrationYear     354369 non-null int64\n",
            "Gearbox              354369 non-null object\n",
            "Power                354369 non-null int64\n",
            "Model                354369 non-null object\n",
            "Kilometer            354369 non-null int64\n",
            "RegistrationMonth    354369 non-null int64\n",
            "FuelType             354369 non-null object\n",
            "Brand                354369 non-null object\n",
            "NotRepaired          354369 non-null object\n",
            "NumberOfPictures     354369 non-null int64\n",
            "dtypes: int64(6), object(6)\n",
            "memory usage: 32.4+ MB\n"
          ],
          "name": "stdout"
        },
        {
          "output_type": "execute_result",
          "data": {
            "text/plain": [
              "(354369, 12)"
            ]
          },
          "metadata": {
            "tags": []
          },
          "execution_count": 6
        }
      ]
    },
    {
      "cell_type": "code",
      "metadata": {
        "id": "cqWDuoBGaXX6"
      },
      "source": [
        "data['RegistrationYear'].value_counts().sort_index()\n",
        "\n",
        "#Действительно много левых годов, оставлю период с 1965 по 2021, все что старее уже раритет\n",
        "\n",
        "data = data.query('1965<= RegistrationYear <=2021')\n",
        "\n"
      ],
      "execution_count": null,
      "outputs": []
    },
    {
      "cell_type": "code",
      "metadata": {
        "id": "77XwuIIaaXX6"
      },
      "source": [
        "data['Power'].value_counts().sort_index()\n",
        "\n",
        "#Удалось найти что ВАЗ-1111 \"Ока\" имеет 29 лошадиных сил, а Koenigsegg Regera на данный момент развивает 1800 л.с\n",
        "data = data.query('29 <= Power <= 1800')"
      ],
      "execution_count": null,
      "outputs": []
    },
    {
      "cell_type": "code",
      "metadata": {
        "id": "gz0A5SYEaXX7",
        "outputId": "985e23f8-ce8f-4f5b-99f6-39ca363b7cb0"
      },
      "source": [
        "#Тут все выглядит \"правильно\", хотя наверняка, в районе 70-100к скрученные\n",
        "data['Kilometer'].value_counts().sort_index()\n"
      ],
      "execution_count": null,
      "outputs": [
        {
          "output_type": "execute_result",
          "data": {
            "text/plain": [
              "5000        3281\n",
              "10000        922\n",
              "20000       3358\n",
              "30000       3974\n",
              "40000       4548\n",
              "50000       5763\n",
              "60000       6928\n",
              "70000       7981\n",
              "80000       9330\n",
              "90000      10667\n",
              "100000     13305\n",
              "125000     33327\n",
              "150000    209413\n",
              "Name: Kilometer, dtype: int64"
            ]
          },
          "metadata": {
            "tags": []
          },
          "execution_count": 11
        }
      ]
    },
    {
      "cell_type": "code",
      "metadata": {
        "id": "CDF-zQlGaXX7"
      },
      "source": [
        "data['RegistrationMonth'].value_counts().sort_index()\n",
        "\n",
        "data = data.query('0 < RegistrationMonth')\n"
      ],
      "execution_count": null,
      "outputs": []
    },
    {
      "cell_type": "code",
      "metadata": {
        "id": "UhpHS7MiaXX7",
        "outputId": "f174de72-a487-46b6-91f3-8865517a4c34"
      },
      "source": [
        "data['NumberOfPictures'].value_counts().sort_index()\n",
        "#Фотографий нет, но это не значит, но думаю, что они могут появится, поэтомуоставил столбец"
      ],
      "execution_count": null,
      "outputs": [
        {
          "output_type": "execute_result",
          "data": {
            "text/plain": [
              "0    290999\n",
              "Name: NumberOfPictures, dtype: int64"
            ]
          },
          "metadata": {
            "tags": []
          },
          "execution_count": 17
        }
      ]
    },
    {
      "cell_type": "markdown",
      "metadata": {
        "id": "N9BhYJdAaXX7"
      },
      "source": [
        "Так как наши простые модели не будут работать с типом данных object, придется заменять его на цифры\n"
      ]
    },
    {
      "cell_type": "code",
      "metadata": {
        "id": "2Go2emv0aXX8",
        "outputId": "88263b1b-4fa3-4673-db34-0fb157de6f8a"
      },
      "source": [
        "data_cat = ['VehicleType','Gearbox','Model','FuelType','Brand','NotRepaired']\n",
        "\n",
        "data_for_lgb = data\n",
        "\n",
        "encoder = OrdinalEncoder()\n",
        "\n",
        "data[data_cat] = encoder.fit_transform(data[data_cat])\n",
        "data.head()"
      ],
      "execution_count": null,
      "outputs": [
        {
          "output_type": "execute_result",
          "data": {
            "text/html": [
              "<div>\n",
              "<style scoped>\n",
              "    .dataframe tbody tr th:only-of-type {\n",
              "        vertical-align: middle;\n",
              "    }\n",
              "\n",
              "    .dataframe tbody tr th {\n",
              "        vertical-align: top;\n",
              "    }\n",
              "\n",
              "    .dataframe thead th {\n",
              "        text-align: right;\n",
              "    }\n",
              "</style>\n",
              "<table border=\"1\" class=\"dataframe\">\n",
              "  <thead>\n",
              "    <tr style=\"text-align: right;\">\n",
              "      <th></th>\n",
              "      <th>Price</th>\n",
              "      <th>VehicleType</th>\n",
              "      <th>RegistrationYear</th>\n",
              "      <th>Gearbox</th>\n",
              "      <th>Power</th>\n",
              "      <th>Model</th>\n",
              "      <th>Kilometer</th>\n",
              "      <th>RegistrationMonth</th>\n",
              "      <th>FuelType</th>\n",
              "      <th>Brand</th>\n",
              "      <th>NotRepaired</th>\n",
              "      <th>NumberOfPictures</th>\n",
              "    </tr>\n",
              "  </thead>\n",
              "  <tbody>\n",
              "    <tr>\n",
              "      <td>1</td>\n",
              "      <td>18300</td>\n",
              "      <td>3.0</td>\n",
              "      <td>2011</td>\n",
              "      <td>2.0</td>\n",
              "      <td>190</td>\n",
              "      <td>26.0</td>\n",
              "      <td>125000</td>\n",
              "      <td>5</td>\n",
              "      <td>3.0</td>\n",
              "      <td>1.0</td>\n",
              "      <td>2.0</td>\n",
              "      <td>0</td>\n",
              "    </tr>\n",
              "    <tr>\n",
              "      <td>2</td>\n",
              "      <td>9800</td>\n",
              "      <td>7.0</td>\n",
              "      <td>2004</td>\n",
              "      <td>1.0</td>\n",
              "      <td>163</td>\n",
              "      <td>118.0</td>\n",
              "      <td>125000</td>\n",
              "      <td>8</td>\n",
              "      <td>3.0</td>\n",
              "      <td>14.0</td>\n",
              "      <td>0.0</td>\n",
              "      <td>0</td>\n",
              "    </tr>\n",
              "    <tr>\n",
              "      <td>3</td>\n",
              "      <td>1500</td>\n",
              "      <td>6.0</td>\n",
              "      <td>2001</td>\n",
              "      <td>2.0</td>\n",
              "      <td>75</td>\n",
              "      <td>117.0</td>\n",
              "      <td>150000</td>\n",
              "      <td>6</td>\n",
              "      <td>7.0</td>\n",
              "      <td>38.0</td>\n",
              "      <td>1.0</td>\n",
              "      <td>0</td>\n",
              "    </tr>\n",
              "    <tr>\n",
              "      <td>4</td>\n",
              "      <td>3600</td>\n",
              "      <td>6.0</td>\n",
              "      <td>2008</td>\n",
              "      <td>2.0</td>\n",
              "      <td>69</td>\n",
              "      <td>102.0</td>\n",
              "      <td>90000</td>\n",
              "      <td>7</td>\n",
              "      <td>3.0</td>\n",
              "      <td>31.0</td>\n",
              "      <td>1.0</td>\n",
              "      <td>0</td>\n",
              "    </tr>\n",
              "    <tr>\n",
              "      <td>5</td>\n",
              "      <td>650</td>\n",
              "      <td>5.0</td>\n",
              "      <td>1995</td>\n",
              "      <td>2.0</td>\n",
              "      <td>102</td>\n",
              "      <td>11.0</td>\n",
              "      <td>150000</td>\n",
              "      <td>10</td>\n",
              "      <td>7.0</td>\n",
              "      <td>2.0</td>\n",
              "      <td>2.0</td>\n",
              "      <td>0</td>\n",
              "    </tr>\n",
              "  </tbody>\n",
              "</table>\n",
              "</div>"
            ],
            "text/plain": [
              "   Price  VehicleType  RegistrationYear  Gearbox  Power  Model  Kilometer  \\\n",
              "1  18300          3.0              2011      2.0    190   26.0     125000   \n",
              "2   9800          7.0              2004      1.0    163  118.0     125000   \n",
              "3   1500          6.0              2001      2.0     75  117.0     150000   \n",
              "4   3600          6.0              2008      2.0     69  102.0      90000   \n",
              "5    650          5.0              1995      2.0    102   11.0     150000   \n",
              "\n",
              "   RegistrationMonth  FuelType  Brand  NotRepaired  NumberOfPictures  \n",
              "1                  5       3.0    1.0          2.0                 0  \n",
              "2                  8       3.0   14.0          0.0                 0  \n",
              "3                  6       7.0   38.0          1.0                 0  \n",
              "4                  7       3.0   31.0          1.0                 0  \n",
              "5                 10       7.0    2.0          2.0                 0  "
            ]
          },
          "metadata": {
            "tags": []
          },
          "execution_count": 18
        }
      ]
    },
    {
      "cell_type": "markdown",
      "metadata": {
        "id": "XY8vhYisaXX8"
      },
      "source": [
        "Как итог, убрали лишние данные, подготовили часть данных для работы"
      ]
    },
    {
      "cell_type": "markdown",
      "metadata": {
        "id": "lxl6HSp8aXX_"
      },
      "source": [
        "## Обучение моделей"
      ]
    },
    {
      "cell_type": "markdown",
      "metadata": {
        "id": "c4njqonpaXYA"
      },
      "source": [
        "Разделим выборку"
      ]
    },
    {
      "cell_type": "code",
      "metadata": {
        "id": "wFhaDKxyaXYA"
      },
      "source": [
        "#Разобъем выборку на тренировочную и валидационную\n",
        "target = data['Price']\n",
        "features = data.drop(['Price'] , axis=1)\n",
        "features_train, features_valid, target_train, target_valid = train_test_split(\n",
        "    features, target, test_size=0.25, random_state=12345)"
      ],
      "execution_count": null,
      "outputs": []
    },
    {
      "cell_type": "code",
      "metadata": {
        "id": "R471Y7OmaXYB"
      },
      "source": [
        "#функция подборки параметров для линейной регрессии через Gridsearch\n",
        "def grid_search_LinearRegression(model, x, y):\n",
        "        param_grid={'fit_intercept':[True, False], 'normalize':[True, False], 'copy_X':[True, False]}\n",
        "        gs = GridSearchCV(model, param_grid, cv=5, verbose=1, n_jobs=-1)\n",
        "        gs.fit(x, y)\n",
        "        best_estimator = gs.best_estimator_\n",
        "        return best_estimator"
      ],
      "execution_count": null,
      "outputs": []
    },
    {
      "cell_type": "markdown",
      "metadata": {
        "id": "7ymEaCqwaXYC"
      },
      "source": [
        "Обучим модель и посмотрим время\n"
      ]
    },
    {
      "cell_type": "code",
      "metadata": {
        "id": "oTIkukIjaXYC"
      },
      "source": [
        "%%time\n",
        "lr = LinearRegression(n_jobs=-1)\n",
        "lr_rougher = grid_search_LinearRegression(lr,features_train,target_train)"
      ],
      "execution_count": null,
      "outputs": []
    },
    {
      "cell_type": "code",
      "metadata": {
        "id": "59zqP_-4aXYC"
      },
      "source": [
        "%%time\n",
        "\n",
        "predictions = lr_rougher.predict(features_valid)\n",
        "result = (mean_squared_error(target_valid, predictions)**0.5)\n",
        "\n",
        "print('RMSE LinearRegression:', result)"
      ],
      "execution_count": null,
      "outputs": []
    },
    {
      "cell_type": "markdown",
      "metadata": {
        "id": "UVkAkG_BaXYD"
      },
      "source": [
        "<div class=\"alert alert-warning\" role=\"alert\">\n",
        "Так как гридсерч сильно долгий, для леса применю рандомсерч\n",
        "</div>"
      ]
    },
    {
      "cell_type": "code",
      "metadata": {
        "id": "2vMFONLFaXYE"
      },
      "source": [
        "%%time\n",
        "\n",
        "random_grid = {'max_depth': [10, 20, 30, 40, 50, 60, 70, 80, 90, None],\n",
        "\n",
        "               'min_samples_split': [2, 5, 7],\n",
        "               'n_estimators': [130, 180, 230]}\n",
        "        \n",
        "rnd_dtc_search = RandomizedSearchCV(RandomForestRegressor(), random_grid, n_iter = 1, cv=5)\n",
        "rnd_dtc_search.fit(features_train,target_train) \n",
        "rnd_dtc_search.best_params_"
      ],
      "execution_count": null,
      "outputs": []
    },
    {
      "cell_type": "markdown",
      "metadata": {
        "id": "FcfQrKDLaXYE"
      },
      "source": [
        "Так как это время работы ячейки, запустим обучение с параметрами еще раз и посмотрим время обучения"
      ]
    },
    {
      "cell_type": "code",
      "metadata": {
        "id": "c_DDZV41aXYE"
      },
      "source": [
        "%%time\n",
        "\n",
        "model = RandomForestRegressor(random_state=12345,n_estimators=130, max_depth=60,min_samples_split=5) \n",
        "model.fit(features_train, target_train)"
      ],
      "execution_count": null,
      "outputs": []
    },
    {
      "cell_type": "code",
      "metadata": {
        "id": "PmvS-T0-aXYE"
      },
      "source": [
        "%%time\n",
        "\n",
        "predictions_valid = model.predict(features_valid)\n",
        "result_forest = (mean_squared_error(target_valid, predictions_valid)**0.5)\n",
        "\n",
        "print('RMSE RandomForestRegressor:', result_forest)"
      ],
      "execution_count": null,
      "outputs": []
    },
    {
      "cell_type": "markdown",
      "metadata": {
        "id": "6229MrEYaXYF"
      },
      "source": [
        "Так как LGBMRegressor умеет работать с категориями, то нет смысла передавать ему закодированный датасет, сейчас быстро получим и снова разделим датасет"
      ]
    },
    {
      "cell_type": "code",
      "metadata": {
        "id": "bo5M8rjqaXYF"
      },
      "source": [
        "data_for_lgb = pd.read_csv('/datasets/autos.csv')\n",
        "data_for_lgb = data_for_lgb.drop(['DateCrawled', 'DateCreated','PostalCode','LastSeen'], axis = 1)"
      ],
      "execution_count": null,
      "outputs": []
    },
    {
      "cell_type": "markdown",
      "metadata": {
        "id": "a95Yc-8vaXYG"
      },
      "source": [
        "Тут я получаю список столбцов, которые тип данных object и перевожу его в тип данных category"
      ]
    },
    {
      "cell_type": "code",
      "metadata": {
        "id": "zbbW8FGvaXYG"
      },
      "source": [
        "obj_feat = list(data_for_lgb.loc[:, data_for_lgb.dtypes == 'object'].columns.values)\n",
        "obj_feat\n"
      ],
      "execution_count": null,
      "outputs": []
    },
    {
      "cell_type": "code",
      "metadata": {
        "id": "lTGZQHneaXYG"
      },
      "source": [
        "for feature in obj_feat:\n",
        "    data_for_lgb[feature] = pd.Series(data_for_lgb[feature], dtype=\"category\")"
      ],
      "execution_count": null,
      "outputs": []
    },
    {
      "cell_type": "markdown",
      "metadata": {
        "id": "OUGEuApyaXYG"
      },
      "source": [
        "Разбиваем снова выборку"
      ]
    },
    {
      "cell_type": "code",
      "metadata": {
        "id": "2Cg7fg5naXYG"
      },
      "source": [
        "target = data_for_lgb['Price']\n",
        "features = data_for_lgb.drop(['Price'] , axis=1)\n",
        "features_train, features_valid, target_train, target_valid = train_test_split(\n",
        "    features, target, test_size=0.25, random_state=12345)"
      ],
      "execution_count": null,
      "outputs": []
    },
    {
      "cell_type": "code",
      "metadata": {
        "id": "rGSAAm6iaXYH"
      },
      "source": [
        "%%time\n",
        "param = {'max_depth': [2,5,7],\n",
        "        'num_leaves': [10,25,50,75,100],\n",
        "        }\n",
        "        \n",
        "rnd_dtc_search = RandomizedSearchCV(LGBMRegressor(), param, n_iter =5, cv=9)\n",
        "rnd_dtc_search.fit(features_train, target_train) \n",
        "rnd_dtc_search.best_params_"
      ],
      "execution_count": null,
      "outputs": []
    },
    {
      "cell_type": "code",
      "metadata": {
        "id": "lUrnCq2caXYH"
      },
      "source": [
        "%%time\n",
        "\n",
        "#Теперь обучим\n",
        "lgbm = LGBMRegressor(random_state=12345,\n",
        "                         max_depth=7,\n",
        "                         num_leaves=25\n",
        "                    )\n",
        "lgbm.fit(features_train, target_train)"
      ],
      "execution_count": null,
      "outputs": []
    },
    {
      "cell_type": "code",
      "metadata": {
        "id": "JvXZ_6jBaXYH"
      },
      "source": [
        "%%time\n",
        "\n",
        "probabilities_valid = lgbm.predict(features_valid)\n",
        "result_lgbm = mean_squared_error(target_valid, probabilities_valid)**0.5\n",
        "\n",
        "print('RMSE LGBMRegressor:', result_lgbm)"
      ],
      "execution_count": null,
      "outputs": []
    },
    {
      "cell_type": "markdown",
      "metadata": {
        "id": "LIjbvVfCaXYJ"
      },
      "source": [
        "## Анализ моделей"
      ]
    },
    {
      "cell_type": "code",
      "metadata": {
        "id": "8eQ_Uta4aXYJ",
        "outputId": "4afc5e3a-668c-4b56-f197-87f46c38a2d8"
      },
      "source": [
        "final = {'Model' : ['LinearRegression', 'RandomForestRegressor', 'LGBMRegressor'],\n",
        "        'RMSE' : [result, result_forest, result_lgbm],\n",
        "        'study_time' : ['11.1 s', '1min 45s', '31.7 s'],\n",
        "        'predict_time' : ['5.82 ms', '3.92 s', '1.2 s']}\n",
        "final_data = pd.DataFrame(final)\n",
        "final_data"
      ],
      "execution_count": null,
      "outputs": [
        {
          "output_type": "execute_result",
          "data": {
            "text/html": [
              "<div>\n",
              "<style scoped>\n",
              "    .dataframe tbody tr th:only-of-type {\n",
              "        vertical-align: middle;\n",
              "    }\n",
              "\n",
              "    .dataframe tbody tr th {\n",
              "        vertical-align: top;\n",
              "    }\n",
              "\n",
              "    .dataframe thead th {\n",
              "        text-align: right;\n",
              "    }\n",
              "</style>\n",
              "<table border=\"1\" class=\"dataframe\">\n",
              "  <thead>\n",
              "    <tr style=\"text-align: right;\">\n",
              "      <th></th>\n",
              "      <th>Model</th>\n",
              "      <th>RMSE</th>\n",
              "      <th>study_time</th>\n",
              "      <th>predict_time</th>\n",
              "    </tr>\n",
              "  </thead>\n",
              "  <tbody>\n",
              "    <tr>\n",
              "      <td>0</td>\n",
              "      <td>LinearRegression</td>\n",
              "      <td>3389.123596</td>\n",
              "      <td>11.1 s</td>\n",
              "      <td>5.82 ms</td>\n",
              "    </tr>\n",
              "    <tr>\n",
              "      <td>1</td>\n",
              "      <td>RandomForestRegressor</td>\n",
              "      <td>1664.311097</td>\n",
              "      <td>1min 45s</td>\n",
              "      <td>3.92 s</td>\n",
              "    </tr>\n",
              "    <tr>\n",
              "      <td>2</td>\n",
              "      <td>LGBMRegressor</td>\n",
              "      <td>1800.119484</td>\n",
              "      <td>31.7 s</td>\n",
              "      <td>1.2 s</td>\n",
              "    </tr>\n",
              "  </tbody>\n",
              "</table>\n",
              "</div>"
            ],
            "text/plain": [
              "                   Model         RMSE study_time predict_time\n",
              "0       LinearRegression  3389.123596     11.1 s      5.82 ms\n",
              "1  RandomForestRegressor  1664.311097   1min 45s       3.92 s\n",
              "2          LGBMRegressor  1800.119484     31.7 s        1.2 s"
            ]
          },
          "metadata": {
            "tags": []
          },
          "execution_count": 64
        }
      ]
    },
    {
      "cell_type": "markdown",
      "metadata": {
        "id": "8qWQb0lJaXYJ"
      },
      "source": [
        "Что у нас получилось\n",
        "LGBMRegressor с подобранными параметрами дал ошибку 1800, долгое время обучения, но быстрое для предсказания"
      ]
    }
  ]
}